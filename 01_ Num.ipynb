{
 "cells": [
  {
   "cell_type": "markdown",
   "metadata": {},
   "source": [
    "## 1.1 정수"
   ]
  },
  {
   "cell_type": "code",
   "execution_count": 1,
   "metadata": {},
   "outputs": [
    {
     "data": {
      "text/plain": [
       "10"
      ]
     },
     "execution_count": 1,
     "metadata": {},
     "output_type": "execute_result"
    }
   ],
   "source": [
    "(999).bit_length() "
   ]
  },
  {
   "cell_type": "code",
   "execution_count": 2,
   "metadata": {},
   "outputs": [
    {
     "name": "stdout",
     "output_type": "stream",
     "text": [
      "11\n"
     ]
    }
   ],
   "source": [
    "s = '11'\n",
    "d = int(s)\n",
    "print(d)"
   ]
  },
  {
   "cell_type": "markdown",
   "metadata": {},
   "source": [
    "다른 진법의 문자열을 정수(10진법)으로 변환 하기.\n",
    "아래의 예시는 2진법 11을 변환한 것."
   ]
  },
  {
   "cell_type": "code",
   "execution_count": 3,
   "metadata": {},
   "outputs": [
    {
     "name": "stdout",
     "output_type": "stream",
     "text": [
      "3\n"
     ]
    }
   ],
   "source": [
    "b = int(s, 2)\n",
    "print(b)"
   ]
  },
  {
   "cell_type": "markdown",
   "metadata": {},
   "source": [
    "## 1.2 부동소수점\n",
    "파이썬의 부동소수점은 float으로 나타내며 불변형\n",
    "\n",
    "부동소수점은 이진수 분수(binary fraction)로 표현되기 때문에 함부로 비교하거나 빼면 안됨"
   ]
  },
  {
   "cell_type": "code",
   "execution_count": 4,
   "metadata": {},
   "outputs": [
    {
     "data": {
      "text/plain": [
       "False"
      ]
     },
     "execution_count": 4,
     "metadata": {},
     "output_type": "execute_result"
    }
   ],
   "source": [
    "0.2 * 3 == 0.6"
   ]
  },
  {
   "cell_type": "code",
   "execution_count": 5,
   "metadata": {},
   "outputs": [
    {
     "data": {
      "text/plain": [
       "True"
      ]
     },
     "execution_count": 5,
     "metadata": {},
     "output_type": "execute_result"
    }
   ],
   "source": [
    "1.2 - 0.2 == 1.0"
   ]
  },
  {
   "cell_type": "code",
   "execution_count": 6,
   "metadata": {},
   "outputs": [
    {
     "data": {
      "text/plain": [
       "False"
      ]
     },
     "execution_count": 6,
     "metadata": {},
     "output_type": "execute_result"
    }
   ],
   "source": [
    "1.2 - 0.1 == 1.1"
   ]
  },
  {
   "cell_type": "code",
   "execution_count": 7,
   "metadata": {},
   "outputs": [
    {
     "data": {
      "text/plain": [
       "False"
      ]
     },
     "execution_count": 7,
     "metadata": {},
     "output_type": "execute_result"
    }
   ],
   "source": [
    "0.1 * 0.1 == 0.01"
   ]
  },
  {
   "cell_type": "markdown",
   "metadata": {},
   "source": [
    "부동소수점을 비교하고 싶으면 unittest 모듈의 assertAlmostEqual() 같은 메서드를 사용하거나\n",
    "\n",
    "메모리에서 비트패턴으로 비교할 수 있다."
   ]
  },
  {
   "cell_type": "code",
   "execution_count": 8,
   "metadata": {},
   "outputs": [
    {
     "data": {
      "text/plain": [
       "True"
      ]
     },
     "execution_count": 8,
     "metadata": {},
     "output_type": "execute_result"
    }
   ],
   "source": [
    "def a(x, y, places=7):\n",
    "  return round(abs(x-y), places) == 0\n",
    "\n",
    "a(0.001, 0.01 * 0.1)"
   ]
  },
  {
   "cell_type": "markdown",
   "metadata": {},
   "source": [
    "나눗셈과 부동소수점"
   ]
  },
  {
   "cell_type": "code",
   "execution_count": 9,
   "metadata": {},
   "outputs": [
    {
     "data": {
      "text/plain": [
       "7.5"
      ]
     },
     "execution_count": 9,
     "metadata": {},
     "output_type": "execute_result"
    }
   ],
   "source": [
    "45/6 # 부동소수점 반환"
   ]
  },
  {
   "cell_type": "code",
   "execution_count": 10,
   "metadata": {},
   "outputs": [
    {
     "data": {
      "text/plain": [
       "7"
      ]
     },
     "execution_count": 10,
     "metadata": {},
     "output_type": "execute_result"
    }
   ],
   "source": [
    "45//6 # 정수 반환"
   ]
  },
  {
   "cell_type": "code",
   "execution_count": 11,
   "metadata": {},
   "outputs": [
    {
     "data": {
      "text/plain": [
       "(7, 3)"
      ]
     },
     "execution_count": 11,
     "metadata": {},
     "output_type": "execute_result"
    }
   ],
   "source": [
    "divmod(45, 6) # 몫과 나머지를 반환"
   ]
  },
  {
   "cell_type": "code",
   "execution_count": 12,
   "metadata": {},
   "outputs": [
    {
     "data": {
      "text/plain": [
       "90.0"
      ]
     },
     "execution_count": 12,
     "metadata": {},
     "output_type": "execute_result"
    }
   ],
   "source": [
    "round(88.988, -1) # round(x, n) n이 음수면 정수 n번째 자리에서 반올림"
   ]
  },
  {
   "cell_type": "code",
   "execution_count": 13,
   "metadata": {},
   "outputs": [
    {
     "data": {
      "text/plain": [
       "88.99"
      ]
     },
     "execution_count": 13,
     "metadata": {},
     "output_type": "execute_result"
    }
   ],
   "source": [
    "round(88.988, 2) # round(x, n) n이 양수면 소수 n+1번째 자리에서 반올림"
   ]
  },
  {
   "cell_type": "markdown",
   "metadata": {},
   "source": [
    "## 1.3 복소수(생략)"
   ]
  },
  {
   "cell_type": "markdown",
   "metadata": {},
   "source": [
    "## 1.4 fraction 모듈\n",
    "유리수와 관련된 연산을 효율적으로 처리하기 위한 분수 모듈"
   ]
  },
  {
   "cell_type": "code",
   "execution_count": 17,
   "metadata": {},
   "outputs": [
    {
     "name": "stdout",
     "output_type": "stream",
     "text": [
      "-8/5\n",
      "1/5\n",
      "3\n"
     ]
    }
   ],
   "source": [
    "from fractions import Fraction\n",
    "\n",
    "#공약수가 존재하는 경우, 자동으로 제거\n",
    "print(Fraction(16, -10))\n",
    "print(Fraction(5, 25))\n",
    "print(Fraction(3)) #분자만 입력되는 경우, 분모는 1이 기본값"
   ]
  },
  {
   "cell_type": "code",
   "execution_count": 18,
   "metadata": {},
   "outputs": [
    {
     "name": "stdout",
     "output_type": "stream",
     "text": [
      "1/3\n",
      "-17/50\n"
     ]
    }
   ],
   "source": [
    "# Fraction 개체의 예\n",
    "f = Fraction(3, 9)\n",
    "print(f)\n",
    "print(Fraction('-0.34'))"
   ]
  },
  {
   "cell_type": "markdown",
   "metadata": {},
   "source": [
    "## 1.5 decimal 모듈\n",
    "정확한 10진법의 부동소수점 숫자가 필요할 경우 사용 가능"
   ]
  },
  {
   "cell_type": "code",
   "execution_count": 20,
   "metadata": {},
   "outputs": [
    {
     "data": {
      "text/plain": [
       "False"
      ]
     },
     "execution_count": 20,
     "metadata": {},
     "output_type": "execute_result"
    }
   ],
   "source": [
    "# 일반적인 부동소수점은 정확한 연산이 안된다\n",
    "sum(0.1 for i in range(10)) == 1.0"
   ]
  },
  {
   "cell_type": "code",
   "execution_count": 23,
   "metadata": {},
   "outputs": [
    {
     "data": {
      "text/plain": [
       "True"
      ]
     },
     "execution_count": 23,
     "metadata": {},
     "output_type": "execute_result"
    }
   ],
   "source": [
    "from decimal import Decimal as D\n",
    "sum(D(\"0.1\") for i in range(10)) == D(\"1.0\")"
   ]
  },
  {
   "cell_type": "markdown",
   "metadata": {},
   "source": [
    "## 1.6 2진수, 8진수 , 16진수"
   ]
  },
  {
   "cell_type": "code",
   "execution_count": 24,
   "metadata": {},
   "outputs": [
    {
     "data": {
      "text/plain": [
       "'0b1111100111'"
      ]
     },
     "execution_count": 24,
     "metadata": {},
     "output_type": "execute_result"
    }
   ],
   "source": [
    "bin(999) # 정수를 2진수로 반환"
   ]
  },
  {
   "cell_type": "code",
   "execution_count": 25,
   "metadata": {},
   "outputs": [
    {
     "data": {
      "text/plain": [
       "'0o1747'"
      ]
     },
     "execution_count": 25,
     "metadata": {},
     "output_type": "execute_result"
    }
   ],
   "source": [
    "oct(999) # 8진수로 반환"
   ]
  },
  {
   "cell_type": "code",
   "execution_count": 87,
   "metadata": {},
   "outputs": [
    {
     "data": {
      "text/plain": [
       "'0x3e7'"
      ]
     },
     "execution_count": 87,
     "metadata": {},
     "output_type": "execute_result"
    }
   ],
   "source": [
    "hex(999)# 16진수로 반환"
   ]
  },
  {
   "cell_type": "code",
   "execution_count": 105,
   "metadata": {},
   "outputs": [
    {
     "name": "stdout",
     "output_type": "stream",
     "text": [
      "input:81\n",
      "output:100\n"
     ]
    }
   ],
   "source": [
    "# 1~10진법 변환 하는 코드\n",
    "\n",
    "def convert_notation (input_number, input_notation, output_notation):\n",
    "    input = str(input_number)\n",
    "    input_length = len(input)\n",
    "    \n",
    "    input_as_decimal = 0\n",
    "    for i in range(input_length):\n",
    "        if int(input[i]) > input_notation:\n",
    "            print(\"error\")\n",
    "            return;\n",
    "        input_as_decimal = int(input[input_length-i-1]) * (input_notation**i) + input_as_decimal\n",
    "        \n",
    "    max_degree = 0\n",
    "    while True:\n",
    "        if input_as_decimal < (output_notation**max_degree):\n",
    "            max_degree -= 1\n",
    "            break\n",
    "        max_degree += 1\n",
    "    \n",
    "    print(\"input:\" + str(input_as_decimal))\n",
    "    result_calc = input_as_decimal\n",
    "    now_degree = max_degree\n",
    "    result_str = \"\"\n",
    "    \n",
    "    while result_calc > 0 or now_degree >= 0:\n",
    "        for i in range(output_notation-1):\n",
    "            if result_calc >= (output_notation-i-1) * (output_notation**now_degree):\n",
    "                result_calc -= (output_notation-i-1) * (output_notation**now_degree)\n",
    "                result_str += str(output_notation-i-1)\n",
    "                now_degree -= 1\n",
    "                break\n",
    "            if i == output_notation-2:\n",
    "                result_str += \"0\"\n",
    "                now_degree -= 1\n",
    "                break\n",
    "            \n",
    "        \n",
    "    print(\"output:\" + result_str)\n",
    "    \n",
    "convert_notation(81, 10, 9) # (변환할 숫자, 원래 진법, 바꿀 진법)"
   ]
  },
  {
   "cell_type": "code",
   "execution_count": null,
   "metadata": {},
   "outputs": [],
   "source": []
  }
 ],
 "metadata": {
  "kernelspec": {
   "display_name": "Python 3",
   "language": "python",
   "name": "python3"
  },
  "language_info": {
   "codemirror_mode": {
    "name": "ipython",
    "version": 3
   },
   "file_extension": ".py",
   "mimetype": "text/x-python",
   "name": "python",
   "nbconvert_exporter": "python",
   "pygments_lexer": "ipython3",
   "version": "3.6.9"
  }
 },
 "nbformat": 4,
 "nbformat_minor": 2
}
